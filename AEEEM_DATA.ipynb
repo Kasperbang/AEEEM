{
  "nbformat": 4,
  "nbformat_minor": 0,
  "metadata": {
    "colab": {
      "name": "AEEEM DATA.ipynb",
      "provenance": [],
      "authorship_tag": "ABX9TyOIO6P28my+2+UqPdMJIAro",
      "include_colab_link": true
    },
    "kernelspec": {
      "name": "python3",
      "display_name": "Python 3"
    },
    "language_info": {
      "name": "python"
    }
  },
  "cells": [
    {
      "cell_type": "markdown",
      "metadata": {
        "id": "view-in-github",
        "colab_type": "text"
      },
      "source": [
        "<a href=\"https://colab.research.google.com/github/Kasperbang/AEEEM/blob/main/AEEEM_DATA.ipynb\" target=\"_parent\"><img src=\"https://colab.research.google.com/assets/colab-badge.svg\" alt=\"Open In Colab\"/></a>"
      ]
    },
    {
      "cell_type": "markdown",
      "source": [
        "# **IMPORT DATA AND CONVERT CLASS TO NUMERICAL RESPONSE:**"
      ],
      "metadata": {
        "id": "m6wJED23wygA"
      }
    },
    {
      "cell_type": "code",
      "execution_count": 2,
      "metadata": {
        "colab": {
          "base_uri": "https://localhost:8080/",
          "height": 232
        },
        "id": "TpSAcUgcwVJf",
        "outputId": "662f35c0-b476-4fd8-ce62-cd7d878af13a"
      },
      "outputs": [
        {
          "output_type": "error",
          "ename": "NameError",
          "evalue": "ignored",
          "traceback": [
            "\u001b[0;31m---------------------------------------------------------------------------\u001b[0m",
            "\u001b[0;31mNameError\u001b[0m                                 Traceback (most recent call last)",
            "\u001b[0;32m<ipython-input-2-093f0764afa6>\u001b[0m in \u001b[0;36m<module>\u001b[0;34m()\u001b[0m\n\u001b[1;32m      5\u001b[0m \u001b[0murl\u001b[0m \u001b[0;34m=\u001b[0m \u001b[0;34m\"https://raw.githubusercontent.com/Kasperbang/AEEEM/main/AEEEM_EQ.csv\"\u001b[0m\u001b[0;34m\u001b[0m\u001b[0;34m\u001b[0m\u001b[0m\n\u001b[1;32m      6\u001b[0m \u001b[0mdownload\u001b[0m \u001b[0;34m=\u001b[0m \u001b[0mrequests\u001b[0m\u001b[0;34m.\u001b[0m\u001b[0mget\u001b[0m\u001b[0;34m(\u001b[0m\u001b[0murl\u001b[0m\u001b[0;34m)\u001b[0m\u001b[0;34m.\u001b[0m\u001b[0mcontent\u001b[0m\u001b[0;34m\u001b[0m\u001b[0;34m\u001b[0m\u001b[0m\n\u001b[0;32m----> 7\u001b[0;31m \u001b[0mAEEEM_EQ\u001b[0m \u001b[0;34m=\u001b[0m \u001b[0mpd\u001b[0m\u001b[0;34m.\u001b[0m\u001b[0mread_csv\u001b[0m\u001b[0;34m(\u001b[0m\u001b[0mio\u001b[0m\u001b[0;34m.\u001b[0m\u001b[0mStringIO\u001b[0m\u001b[0;34m(\u001b[0m\u001b[0mdownload\u001b[0m\u001b[0;34m.\u001b[0m\u001b[0mdecode\u001b[0m\u001b[0;34m(\u001b[0m\u001b[0;34m'utf-8'\u001b[0m\u001b[0;34m)\u001b[0m\u001b[0;34m)\u001b[0m\u001b[0;34m)\u001b[0m\u001b[0;34m\u001b[0m\u001b[0;34m\u001b[0m\u001b[0m\n\u001b[0m\u001b[1;32m      8\u001b[0m \u001b[0;34m\u001b[0m\u001b[0m\n\u001b[1;32m      9\u001b[0m \u001b[0murl\u001b[0m \u001b[0;34m=\u001b[0m \u001b[0;34m\"https://raw.githubusercontent.com/Kasperbang/AEEEM/main/AEEEM_JDT.csv\"\u001b[0m\u001b[0;34m\u001b[0m\u001b[0;34m\u001b[0m\u001b[0m\n",
            "\u001b[0;31mNameError\u001b[0m: name 'pd' is not defined"
          ]
        }
      ],
      "source": [
        "import requests\n",
        "import io\n",
        "\n",
        "\n",
        "url = \"https://raw.githubusercontent.com/Kasperbang/AEEEM/main/AEEEM_EQ.csv\" \n",
        "download = requests.get(url).content\n",
        "AEEEM_EQ = pd.read_csv(io.StringIO(download.decode('utf-8')))\n",
        "\n",
        "url = \"https://raw.githubusercontent.com/Kasperbang/AEEEM/main/AEEEM_JDT.csv\" \n",
        "download = requests.get(url).content\n",
        "AEEEM_JDT = pd.read_csv(io.StringIO(download.decode('utf-8')))\n",
        "\n",
        "url = \"https://raw.githubusercontent.com/Kasperbang/AEEEM/main/AEEEM_LC.csv\" \n",
        "download = requests.get(url).content\n",
        "AEEEM_LC = pd.read_csv(io.StringIO(download.decode('utf-8')))\n",
        "\n",
        "url = \"https://raw.githubusercontent.com/Kasperbang/AEEEM/main/AEEEM_ML.csv\" \n",
        "download = requests.get(url).content\n",
        "AEEEM_ML = pd.read_csv(io.StringIO(download.decode('utf-8')))\n",
        "\n",
        "url = \"https://raw.githubusercontent.com/Kasperbang/AEEEM/main/AEEEM_PDE.csv\" \n",
        "download = requests.get(url).content\n",
        "AEEEM_PDE = pd.read_csv(io.StringIO(download.decode('utf-8')))\n",
        "\n"
      ]
    }
  ]
}